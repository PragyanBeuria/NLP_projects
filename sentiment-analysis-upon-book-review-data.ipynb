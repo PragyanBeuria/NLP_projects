{
 "cells": [
  {
   "cell_type": "code",
   "execution_count": 1,
   "id": "00207c81",
   "metadata": {
    "_cell_guid": "b1076dfc-b9ad-4769-8c92-a6c4dae69d19",
    "_uuid": "8f2839f25d086af736a60e9eeb907d3b93b6e0e5",
    "execution": {
     "iopub.execute_input": "2022-12-12T09:23:32.140822Z",
     "iopub.status.busy": "2022-12-12T09:23:32.140039Z",
     "iopub.status.idle": "2022-12-12T09:23:32.153289Z",
     "shell.execute_reply": "2022-12-12T09:23:32.152183Z"
    },
    "papermill": {
     "duration": 0.031694,
     "end_time": "2022-12-12T09:23:32.155825",
     "exception": false,
     "start_time": "2022-12-12T09:23:32.124131",
     "status": "completed"
    },
    "tags": []
   },
   "outputs": [
    {
     "name": "stdout",
     "output_type": "stream",
     "text": [
      "/kaggle/input/goodreads-books-reviews-290312/goodreads_test.csv\n",
      "/kaggle/input/goodreads-books-reviews-290312/goodreads_sample_submission.csv\n",
      "/kaggle/input/goodreads-books-reviews-290312/goodreads_train.csv\n"
     ]
    }
   ],
   "source": [
    "# This Python 3 environment comes with many helpful analytics libraries installed\n",
    "# It is defined by the kaggle/python Docker image: https://github.com/kaggle/docker-python\n",
    "# For example, here's several helpful packages to load\n",
    "\n",
    "import numpy as np # linear algebra\n",
    "import pandas as pd # data processing, CSV file I/O (e.g. pd.read_csv)\n",
    "\n",
    "# Input data files are available in the read-only \"../input/\" directory\n",
    "# For example, running this (by clicking run or pressing Shift+Enter) will list all files under the input directory\n",
    "import os\n",
    "for dirname, _, filenames in os.walk('/kaggle/input'):\n",
    "    for filename in filenames:\n",
    "        print(os.path.join(dirname, filename))\n",
    "\n",
    "# You can write up to 20GB to the current directory (/kaggle/working/) that gets preserved as output when you create a version using \"Save & Run All\" \n",
    "# You can also write temporary files to /kaggle/temp/, but they won't be saved outside of the current session"
   ]
  },
  {
   "cell_type": "markdown",
   "id": "bc72a71c",
   "metadata": {
    "papermill": {
     "duration": 0.013526,
     "end_time": "2022-12-12T09:23:32.181469",
     "exception": false,
     "start_time": "2022-12-12T09:23:32.167943",
     "status": "completed"
    },
    "tags": []
   },
   "source": [
    "user_id - Id of user\n",
    "\n",
    "book_id - Id of Book\n",
    "\n",
    "review_id - Id of review\n",
    "\n",
    "rating - rating from 0 to 5\n",
    "\n",
    "review_text - review text\n",
    "\n",
    "date_added - date added\n",
    "\n",
    "date_updated - date updated\n",
    "\n",
    "read_at - read at\n",
    "\n",
    "started_at - started at\n",
    "\n",
    "n_votes - no. of votes\n",
    "\n",
    "n_comments - no. of comments"
   ]
  },
  {
   "cell_type": "markdown",
   "id": "b7c9e40d",
   "metadata": {
    "papermill": {
     "duration": 0.011444,
     "end_time": "2022-12-12T09:23:32.204505",
     "exception": false,
     "start_time": "2022-12-12T09:23:32.193061",
     "status": "completed"
    },
    "tags": []
   },
   "source": []
  },
  {
   "cell_type": "markdown",
   "id": "58cc899c",
   "metadata": {
    "papermill": {
     "duration": 0.011295,
     "end_time": "2022-12-12T09:23:32.227482",
     "exception": false,
     "start_time": "2022-12-12T09:23:32.216187",
     "status": "completed"
    },
    "tags": []
   },
   "source": [
    "*  Import required libraries\n",
    "*  load the data\n",
    "*  Perform EDA\n",
    "*  Remove stop words and  apply stemming\n",
    "*  Convert the text data into vectors\n",
    "*  Split data into training and testing\n",
    "*  Define our model\n",
    "*  Test the model on testing data\n",
    "*  Check the accuracy\n",
    "*  Test on the custom data"
   ]
  },
  {
   "cell_type": "markdown",
   "id": "192b7aa9",
   "metadata": {
    "papermill": {
     "duration": 0.011428,
     "end_time": "2022-12-12T09:23:32.251789",
     "exception": false,
     "start_time": "2022-12-12T09:23:32.240361",
     "status": "completed"
    },
    "tags": []
   },
   "source": [
    "Import required library for use"
   ]
  },
  {
   "cell_type": "code",
   "execution_count": 2,
   "id": "563cde7b",
   "metadata": {
    "execution": {
     "iopub.execute_input": "2022-12-12T09:23:32.277581Z",
     "iopub.status.busy": "2022-12-12T09:23:32.276877Z",
     "iopub.status.idle": "2022-12-12T09:23:34.563362Z",
     "shell.execute_reply": "2022-12-12T09:23:34.562002Z"
    },
    "papermill": {
     "duration": 2.302758,
     "end_time": "2022-12-12T09:23:34.566363",
     "exception": false,
     "start_time": "2022-12-12T09:23:32.263605",
     "status": "completed"
    },
    "tags": []
   },
   "outputs": [
    {
     "name": "stderr",
     "output_type": "stream",
     "text": [
      "[nltk_data] Downloading package stopwords to /usr/share/nltk_data...\n",
      "[nltk_data]   Package stopwords is already up-to-date!\n"
     ]
    }
   ],
   "source": [
    "import pandas as pd\n",
    "import seaborn as sns\n",
    "import matplotlib.pyplot as plt\n",
    "import nltk\n",
    "nltk.download('stopwords')\n",
    "from nltk.corpus import stopwords\n",
    "from nltk.tokenize import word_tokenize\n",
    "from nltk.stem import WordNetLemmatizer\n",
    "import re\n",
    "from bs4 import BeautifulSoup\n",
    "import re, string, unicodedata"
   ]
  },
  {
   "cell_type": "markdown",
   "id": "7b7815fb",
   "metadata": {
    "papermill": {
     "duration": 0.018162,
     "end_time": "2022-12-12T09:23:34.600893",
     "exception": false,
     "start_time": "2022-12-12T09:23:34.582731",
     "status": "completed"
    },
    "tags": []
   },
   "source": [
    "**Training data preprocessing**"
   ]
  },
  {
   "cell_type": "code",
   "execution_count": 3,
   "id": "a6304505",
   "metadata": {
    "execution": {
     "iopub.execute_input": "2022-12-12T09:23:34.633301Z",
     "iopub.status.busy": "2022-12-12T09:23:34.632513Z",
     "iopub.status.idle": "2022-12-12T09:24:01.788927Z",
     "shell.execute_reply": "2022-12-12T09:24:01.787834Z"
    },
    "papermill": {
     "duration": 27.173656,
     "end_time": "2022-12-12T09:24:01.792047",
     "exception": false,
     "start_time": "2022-12-12T09:23:34.618391",
     "status": "completed"
    },
    "tags": []
   },
   "outputs": [],
   "source": [
    "train_book=pd.read_csv('/kaggle/input/goodreads-books-reviews-290312/goodreads_train.csv')"
   ]
  },
  {
   "cell_type": "code",
   "execution_count": 4,
   "id": "d4c458e2",
   "metadata": {
    "execution": {
     "iopub.execute_input": "2022-12-12T09:24:01.817830Z",
     "iopub.status.busy": "2022-12-12T09:24:01.817440Z",
     "iopub.status.idle": "2022-12-12T09:24:16.320930Z",
     "shell.execute_reply": "2022-12-12T09:24:16.319831Z"
    },
    "papermill": {
     "duration": 14.519335,
     "end_time": "2022-12-12T09:24:16.323648",
     "exception": false,
     "start_time": "2022-12-12T09:24:01.804313",
     "status": "completed"
    },
    "tags": []
   },
   "outputs": [],
   "source": [
    "test_book=pd.read_csv('/kaggle/input/goodreads-books-reviews-290312/goodreads_test.csv')"
   ]
  },
  {
   "cell_type": "code",
   "execution_count": 5,
   "id": "b7160925",
   "metadata": {
    "execution": {
     "iopub.execute_input": "2022-12-12T09:24:16.349119Z",
     "iopub.status.busy": "2022-12-12T09:24:16.348698Z",
     "iopub.status.idle": "2022-12-12T09:24:16.382632Z",
     "shell.execute_reply": "2022-12-12T09:24:16.381606Z"
    },
    "papermill": {
     "duration": 0.049229,
     "end_time": "2022-12-12T09:24:16.384969",
     "exception": false,
     "start_time": "2022-12-12T09:24:16.335740",
     "status": "completed"
    },
    "tags": []
   },
   "outputs": [
    {
     "data": {
      "text/html": [
       "<div>\n",
       "<style scoped>\n",
       "    .dataframe tbody tr th:only-of-type {\n",
       "        vertical-align: middle;\n",
       "    }\n",
       "\n",
       "    .dataframe tbody tr th {\n",
       "        vertical-align: top;\n",
       "    }\n",
       "\n",
       "    .dataframe thead th {\n",
       "        text-align: right;\n",
       "    }\n",
       "</style>\n",
       "<table border=\"1\" class=\"dataframe\">\n",
       "  <thead>\n",
       "    <tr style=\"text-align: right;\">\n",
       "      <th></th>\n",
       "      <th>user_id</th>\n",
       "      <th>book_id</th>\n",
       "      <th>review_id</th>\n",
       "      <th>rating</th>\n",
       "      <th>review_text</th>\n",
       "      <th>date_added</th>\n",
       "      <th>date_updated</th>\n",
       "      <th>read_at</th>\n",
       "      <th>started_at</th>\n",
       "      <th>n_votes</th>\n",
       "      <th>n_comments</th>\n",
       "    </tr>\n",
       "  </thead>\n",
       "  <tbody>\n",
       "    <tr>\n",
       "      <th>0</th>\n",
       "      <td>8842281e1d1347389f2ab93d60773d4d</td>\n",
       "      <td>18245960</td>\n",
       "      <td>dfdbb7b0eb5a7e4c26d59a937e2e5feb</td>\n",
       "      <td>5</td>\n",
       "      <td>This is a special book. It started slow for ab...</td>\n",
       "      <td>Sun Jul 30 07:44:10 -0700 2017</td>\n",
       "      <td>Wed Aug 30 00:00:26 -0700 2017</td>\n",
       "      <td>Sat Aug 26 12:05:52 -0700 2017</td>\n",
       "      <td>Tue Aug 15 13:23:18 -0700 2017</td>\n",
       "      <td>28</td>\n",
       "      <td>1</td>\n",
       "    </tr>\n",
       "    <tr>\n",
       "      <th>1</th>\n",
       "      <td>8842281e1d1347389f2ab93d60773d4d</td>\n",
       "      <td>16981</td>\n",
       "      <td>a5d2c3628987712d0e05c4f90798eb67</td>\n",
       "      <td>3</td>\n",
       "      <td>Recommended by Don Katz. Avail for free in Dec...</td>\n",
       "      <td>Mon Dec 05 10:46:44 -0800 2016</td>\n",
       "      <td>Wed Mar 22 11:37:04 -0700 2017</td>\n",
       "      <td>NaN</td>\n",
       "      <td>NaN</td>\n",
       "      <td>1</td>\n",
       "      <td>0</td>\n",
       "    </tr>\n",
       "    <tr>\n",
       "      <th>2</th>\n",
       "      <td>8842281e1d1347389f2ab93d60773d4d</td>\n",
       "      <td>28684704</td>\n",
       "      <td>2ede853b14dc4583f96cf5d120af636f</td>\n",
       "      <td>3</td>\n",
       "      <td>A fun, fast paced science fiction thriller. I ...</td>\n",
       "      <td>Tue Nov 15 11:29:22 -0800 2016</td>\n",
       "      <td>Mon Mar 20 23:40:27 -0700 2017</td>\n",
       "      <td>Sat Mar 18 23:22:42 -0700 2017</td>\n",
       "      <td>Fri Mar 17 23:45:40 -0700 2017</td>\n",
       "      <td>22</td>\n",
       "      <td>0</td>\n",
       "    </tr>\n",
       "    <tr>\n",
       "      <th>3</th>\n",
       "      <td>8842281e1d1347389f2ab93d60773d4d</td>\n",
       "      <td>27161156</td>\n",
       "      <td>ced5675e55cd9d38a524743f5c40996e</td>\n",
       "      <td>0</td>\n",
       "      <td>Recommended reading to understand what is goin...</td>\n",
       "      <td>Wed Nov 09 17:37:04 -0800 2016</td>\n",
       "      <td>Wed Nov 09 17:38:20 -0800 2016</td>\n",
       "      <td>NaN</td>\n",
       "      <td>NaN</td>\n",
       "      <td>5</td>\n",
       "      <td>1</td>\n",
       "    </tr>\n",
       "    <tr>\n",
       "      <th>4</th>\n",
       "      <td>8842281e1d1347389f2ab93d60773d4d</td>\n",
       "      <td>25884323</td>\n",
       "      <td>332732725863131279a8e345b63ac33e</td>\n",
       "      <td>4</td>\n",
       "      <td>I really enjoyed this book, and there is a lot...</td>\n",
       "      <td>Mon Apr 25 09:31:23 -0700 2016</td>\n",
       "      <td>Mon Apr 25 09:31:23 -0700 2016</td>\n",
       "      <td>Sun Jun 26 00:00:00 -0700 2016</td>\n",
       "      <td>Sat May 28 00:00:00 -0700 2016</td>\n",
       "      <td>9</td>\n",
       "      <td>1</td>\n",
       "    </tr>\n",
       "    <tr>\n",
       "      <th>...</th>\n",
       "      <td>...</td>\n",
       "      <td>...</td>\n",
       "      <td>...</td>\n",
       "      <td>...</td>\n",
       "      <td>...</td>\n",
       "      <td>...</td>\n",
       "      <td>...</td>\n",
       "      <td>...</td>\n",
       "      <td>...</td>\n",
       "      <td>...</td>\n",
       "      <td>...</td>\n",
       "    </tr>\n",
       "    <tr>\n",
       "      <th>899995</th>\n",
       "      <td>b9450d1c1f97f891c392b1105959b56e</td>\n",
       "      <td>11832081</td>\n",
       "      <td>7c34c15ad8cb28a4afca32946e2016ea</td>\n",
       "      <td>3</td>\n",
       "      <td>3.5 stars. \\n Jenna is a popular YA author and...</td>\n",
       "      <td>Fri Nov 16 22:10:17 -0800 2012</td>\n",
       "      <td>Sat Nov 17 22:42:44 -0800 2012</td>\n",
       "      <td>Sat Nov 17 00:00:00 -0800 2012</td>\n",
       "      <td>Fri Nov 16 00:00:00 -0800 2012</td>\n",
       "      <td>0</td>\n",
       "      <td>0</td>\n",
       "    </tr>\n",
       "    <tr>\n",
       "      <th>899996</th>\n",
       "      <td>b9450d1c1f97f891c392b1105959b56e</td>\n",
       "      <td>16095092</td>\n",
       "      <td>e979c735276431915d089cfaf446d64f</td>\n",
       "      <td>3</td>\n",
       "      <td>This was a quick read for me. I have read a lo...</td>\n",
       "      <td>Fri Nov 16 22:09:49 -0800 2012</td>\n",
       "      <td>Sat Nov 17 23:38:58 -0800 2012</td>\n",
       "      <td>Sat Nov 17 00:00:00 -0800 2012</td>\n",
       "      <td>Fri Nov 16 00:00:00 -0800 2012</td>\n",
       "      <td>1</td>\n",
       "      <td>1</td>\n",
       "    </tr>\n",
       "    <tr>\n",
       "      <th>899997</th>\n",
       "      <td>b9450d1c1f97f891c392b1105959b56e</td>\n",
       "      <td>8430896</td>\n",
       "      <td>feb9fe6439f9fbba8a1cce36020ad977</td>\n",
       "      <td>4</td>\n",
       "      <td>** spoiler alert ** \\n 3.5 stars. \\n This book...</td>\n",
       "      <td>Tue Nov 13 05:38:24 -0800 2012</td>\n",
       "      <td>Tue Nov 13 23:29:17 -0800 2012</td>\n",
       "      <td>Tue Nov 13 00:00:00 -0800 2012</td>\n",
       "      <td>Tue Nov 13 00:00:00 -0800 2012</td>\n",
       "      <td>1</td>\n",
       "      <td>0</td>\n",
       "    </tr>\n",
       "    <tr>\n",
       "      <th>899998</th>\n",
       "      <td>b9450d1c1f97f891c392b1105959b56e</td>\n",
       "      <td>12275680</td>\n",
       "      <td>741e29369f70531bfffbd02add86f228</td>\n",
       "      <td>4</td>\n",
       "      <td>** spoiler alert ** \\n Another fun read from M...</td>\n",
       "      <td>Mon Nov 12 05:42:30 -0800 2012</td>\n",
       "      <td>Tue Nov 13 22:32:05 -0800 2012</td>\n",
       "      <td>Tue Nov 13 00:00:00 -0800 2012</td>\n",
       "      <td>Mon Nov 12 00:00:00 -0800 2012</td>\n",
       "      <td>0</td>\n",
       "      <td>0</td>\n",
       "    </tr>\n",
       "    <tr>\n",
       "      <th>899999</th>\n",
       "      <td>b9450d1c1f97f891c392b1105959b56e</td>\n",
       "      <td>17005</td>\n",
       "      <td>d55f3a967230940e75a314700caec9a5</td>\n",
       "      <td>3</td>\n",
       "      <td>** spoiler alert ** \\n 3.5 stars \\n I liked it...</td>\n",
       "      <td>Sun Nov 11 00:05:43 -0800 2012</td>\n",
       "      <td>Sun Nov 11 21:59:08 -0800 2012</td>\n",
       "      <td>Sun Nov 11 00:00:00 -0800 2012</td>\n",
       "      <td>Sun Nov 11 00:00:00 -0800 2012</td>\n",
       "      <td>0</td>\n",
       "      <td>0</td>\n",
       "    </tr>\n",
       "  </tbody>\n",
       "</table>\n",
       "<p>900000 rows × 11 columns</p>\n",
       "</div>"
      ],
      "text/plain": [
       "                                 user_id   book_id  \\\n",
       "0       8842281e1d1347389f2ab93d60773d4d  18245960   \n",
       "1       8842281e1d1347389f2ab93d60773d4d     16981   \n",
       "2       8842281e1d1347389f2ab93d60773d4d  28684704   \n",
       "3       8842281e1d1347389f2ab93d60773d4d  27161156   \n",
       "4       8842281e1d1347389f2ab93d60773d4d  25884323   \n",
       "...                                  ...       ...   \n",
       "899995  b9450d1c1f97f891c392b1105959b56e  11832081   \n",
       "899996  b9450d1c1f97f891c392b1105959b56e  16095092   \n",
       "899997  b9450d1c1f97f891c392b1105959b56e   8430896   \n",
       "899998  b9450d1c1f97f891c392b1105959b56e  12275680   \n",
       "899999  b9450d1c1f97f891c392b1105959b56e     17005   \n",
       "\n",
       "                               review_id  rating  \\\n",
       "0       dfdbb7b0eb5a7e4c26d59a937e2e5feb       5   \n",
       "1       a5d2c3628987712d0e05c4f90798eb67       3   \n",
       "2       2ede853b14dc4583f96cf5d120af636f       3   \n",
       "3       ced5675e55cd9d38a524743f5c40996e       0   \n",
       "4       332732725863131279a8e345b63ac33e       4   \n",
       "...                                  ...     ...   \n",
       "899995  7c34c15ad8cb28a4afca32946e2016ea       3   \n",
       "899996  e979c735276431915d089cfaf446d64f       3   \n",
       "899997  feb9fe6439f9fbba8a1cce36020ad977       4   \n",
       "899998  741e29369f70531bfffbd02add86f228       4   \n",
       "899999  d55f3a967230940e75a314700caec9a5       3   \n",
       "\n",
       "                                              review_text  \\\n",
       "0       This is a special book. It started slow for ab...   \n",
       "1       Recommended by Don Katz. Avail for free in Dec...   \n",
       "2       A fun, fast paced science fiction thriller. I ...   \n",
       "3       Recommended reading to understand what is goin...   \n",
       "4       I really enjoyed this book, and there is a lot...   \n",
       "...                                                   ...   \n",
       "899995  3.5 stars. \\n Jenna is a popular YA author and...   \n",
       "899996  This was a quick read for me. I have read a lo...   \n",
       "899997  ** spoiler alert ** \\n 3.5 stars. \\n This book...   \n",
       "899998  ** spoiler alert ** \\n Another fun read from M...   \n",
       "899999  ** spoiler alert ** \\n 3.5 stars \\n I liked it...   \n",
       "\n",
       "                            date_added                    date_updated  \\\n",
       "0       Sun Jul 30 07:44:10 -0700 2017  Wed Aug 30 00:00:26 -0700 2017   \n",
       "1       Mon Dec 05 10:46:44 -0800 2016  Wed Mar 22 11:37:04 -0700 2017   \n",
       "2       Tue Nov 15 11:29:22 -0800 2016  Mon Mar 20 23:40:27 -0700 2017   \n",
       "3       Wed Nov 09 17:37:04 -0800 2016  Wed Nov 09 17:38:20 -0800 2016   \n",
       "4       Mon Apr 25 09:31:23 -0700 2016  Mon Apr 25 09:31:23 -0700 2016   \n",
       "...                                ...                             ...   \n",
       "899995  Fri Nov 16 22:10:17 -0800 2012  Sat Nov 17 22:42:44 -0800 2012   \n",
       "899996  Fri Nov 16 22:09:49 -0800 2012  Sat Nov 17 23:38:58 -0800 2012   \n",
       "899997  Tue Nov 13 05:38:24 -0800 2012  Tue Nov 13 23:29:17 -0800 2012   \n",
       "899998  Mon Nov 12 05:42:30 -0800 2012  Tue Nov 13 22:32:05 -0800 2012   \n",
       "899999  Sun Nov 11 00:05:43 -0800 2012  Sun Nov 11 21:59:08 -0800 2012   \n",
       "\n",
       "                               read_at                      started_at  \\\n",
       "0       Sat Aug 26 12:05:52 -0700 2017  Tue Aug 15 13:23:18 -0700 2017   \n",
       "1                                  NaN                             NaN   \n",
       "2       Sat Mar 18 23:22:42 -0700 2017  Fri Mar 17 23:45:40 -0700 2017   \n",
       "3                                  NaN                             NaN   \n",
       "4       Sun Jun 26 00:00:00 -0700 2016  Sat May 28 00:00:00 -0700 2016   \n",
       "...                                ...                             ...   \n",
       "899995  Sat Nov 17 00:00:00 -0800 2012  Fri Nov 16 00:00:00 -0800 2012   \n",
       "899996  Sat Nov 17 00:00:00 -0800 2012  Fri Nov 16 00:00:00 -0800 2012   \n",
       "899997  Tue Nov 13 00:00:00 -0800 2012  Tue Nov 13 00:00:00 -0800 2012   \n",
       "899998  Tue Nov 13 00:00:00 -0800 2012  Mon Nov 12 00:00:00 -0800 2012   \n",
       "899999  Sun Nov 11 00:00:00 -0800 2012  Sun Nov 11 00:00:00 -0800 2012   \n",
       "\n",
       "        n_votes  n_comments  \n",
       "0            28           1  \n",
       "1             1           0  \n",
       "2            22           0  \n",
       "3             5           1  \n",
       "4             9           1  \n",
       "...         ...         ...  \n",
       "899995        0           0  \n",
       "899996        1           1  \n",
       "899997        1           0  \n",
       "899998        0           0  \n",
       "899999        0           0  \n",
       "\n",
       "[900000 rows x 11 columns]"
      ]
     },
     "execution_count": 5,
     "metadata": {},
     "output_type": "execute_result"
    }
   ],
   "source": [
    "train_book"
   ]
  },
  {
   "cell_type": "markdown",
   "id": "2a3c60c2",
   "metadata": {
    "papermill": {
     "duration": 0.011895,
     "end_time": "2022-12-12T09:24:16.409150",
     "exception": false,
     "start_time": "2022-12-12T09:24:16.397255",
     "status": "completed"
    },
    "tags": []
   },
   "source": [
    "We will predict the best book or review on basis of rating and other important features."
   ]
  },
  {
   "cell_type": "code",
   "execution_count": 6,
   "id": "7fe736c2",
   "metadata": {
    "execution": {
     "iopub.execute_input": "2022-12-12T09:24:16.435283Z",
     "iopub.status.busy": "2022-12-12T09:24:16.434900Z",
     "iopub.status.idle": "2022-12-12T09:24:16.444128Z",
     "shell.execute_reply": "2022-12-12T09:24:16.442790Z"
    },
    "papermill": {
     "duration": 0.025102,
     "end_time": "2022-12-12T09:24:16.446462",
     "exception": false,
     "start_time": "2022-12-12T09:24:16.421360",
     "status": "completed"
    },
    "tags": []
   },
   "outputs": [
    {
     "data": {
      "text/plain": [
       "(900000, 11)"
      ]
     },
     "execution_count": 6,
     "metadata": {},
     "output_type": "execute_result"
    }
   ],
   "source": [
    "train_book.shape"
   ]
  },
  {
   "cell_type": "code",
   "execution_count": 7,
   "id": "236992a4",
   "metadata": {
    "execution": {
     "iopub.execute_input": "2022-12-12T09:24:16.473361Z",
     "iopub.status.busy": "2022-12-12T09:24:16.472570Z",
     "iopub.status.idle": "2022-12-12T09:24:16.479934Z",
     "shell.execute_reply": "2022-12-12T09:24:16.478930Z"
    },
    "papermill": {
     "duration": 0.023258,
     "end_time": "2022-12-12T09:24:16.482199",
     "exception": false,
     "start_time": "2022-12-12T09:24:16.458941",
     "status": "completed"
    },
    "tags": []
   },
   "outputs": [
    {
     "data": {
      "text/plain": [
       "Index(['user_id', 'book_id', 'review_id', 'rating', 'review_text',\n",
       "       'date_added', 'date_updated', 'read_at', 'started_at', 'n_votes',\n",
       "       'n_comments'],\n",
       "      dtype='object')"
      ]
     },
     "execution_count": 7,
     "metadata": {},
     "output_type": "execute_result"
    }
   ],
   "source": [
    "train_book.columns"
   ]
  },
  {
   "cell_type": "code",
   "execution_count": 8,
   "id": "2bcada08",
   "metadata": {
    "execution": {
     "iopub.execute_input": "2022-12-12T09:24:16.509363Z",
     "iopub.status.busy": "2022-12-12T09:24:16.508431Z",
     "iopub.status.idle": "2022-12-12T09:24:16.611429Z",
     "shell.execute_reply": "2022-12-12T09:24:16.610565Z"
    },
    "papermill": {
     "duration": 0.119011,
     "end_time": "2022-12-12T09:24:16.613720",
     "exception": false,
     "start_time": "2022-12-12T09:24:16.494709",
     "status": "completed"
    },
    "tags": []
   },
   "outputs": [
    {
     "data": {
      "text/html": [
       "<div>\n",
       "<style scoped>\n",
       "    .dataframe tbody tr th:only-of-type {\n",
       "        vertical-align: middle;\n",
       "    }\n",
       "\n",
       "    .dataframe tbody tr th {\n",
       "        vertical-align: top;\n",
       "    }\n",
       "\n",
       "    .dataframe thead th {\n",
       "        text-align: right;\n",
       "    }\n",
       "</style>\n",
       "<table border=\"1\" class=\"dataframe\">\n",
       "  <thead>\n",
       "    <tr style=\"text-align: right;\">\n",
       "      <th></th>\n",
       "      <th>book_id</th>\n",
       "      <th>rating</th>\n",
       "      <th>n_votes</th>\n",
       "      <th>n_comments</th>\n",
       "    </tr>\n",
       "  </thead>\n",
       "  <tbody>\n",
       "    <tr>\n",
       "      <th>book_id</th>\n",
       "      <td>1.000000</td>\n",
       "      <td>0.022840</td>\n",
       "      <td>0.076208</td>\n",
       "      <td>0.030068</td>\n",
       "    </tr>\n",
       "    <tr>\n",
       "      <th>rating</th>\n",
       "      <td>0.022840</td>\n",
       "      <td>1.000000</td>\n",
       "      <td>0.006663</td>\n",
       "      <td>-0.003530</td>\n",
       "    </tr>\n",
       "    <tr>\n",
       "      <th>n_votes</th>\n",
       "      <td>0.076208</td>\n",
       "      <td>0.006663</td>\n",
       "      <td>1.000000</td>\n",
       "      <td>0.626733</td>\n",
       "    </tr>\n",
       "    <tr>\n",
       "      <th>n_comments</th>\n",
       "      <td>0.030068</td>\n",
       "      <td>-0.003530</td>\n",
       "      <td>0.626733</td>\n",
       "      <td>1.000000</td>\n",
       "    </tr>\n",
       "  </tbody>\n",
       "</table>\n",
       "</div>"
      ],
      "text/plain": [
       "             book_id    rating   n_votes  n_comments\n",
       "book_id     1.000000  0.022840  0.076208    0.030068\n",
       "rating      0.022840  1.000000  0.006663   -0.003530\n",
       "n_votes     0.076208  0.006663  1.000000    0.626733\n",
       "n_comments  0.030068 -0.003530  0.626733    1.000000"
      ]
     },
     "execution_count": 8,
     "metadata": {},
     "output_type": "execute_result"
    }
   ],
   "source": [
    "train_book.corr()"
   ]
  },
  {
   "cell_type": "code",
   "execution_count": 9,
   "id": "5b0853d5",
   "metadata": {
    "execution": {
     "iopub.execute_input": "2022-12-12T09:24:16.641429Z",
     "iopub.status.busy": "2022-12-12T09:24:16.640786Z",
     "iopub.status.idle": "2022-12-12T09:24:16.655298Z",
     "shell.execute_reply": "2022-12-12T09:24:16.654243Z"
    },
    "papermill": {
     "duration": 0.031129,
     "end_time": "2022-12-12T09:24:16.657646",
     "exception": false,
     "start_time": "2022-12-12T09:24:16.626517",
     "status": "completed"
    },
    "tags": []
   },
   "outputs": [
    {
     "data": {
      "text/plain": [
       "0         This is a special book. It started slow for ab...\n",
       "1         Recommended by Don Katz. Avail for free in Dec...\n",
       "2         A fun, fast paced science fiction thriller. I ...\n",
       "3         Recommended reading to understand what is goin...\n",
       "4         I really enjoyed this book, and there is a lot...\n",
       "                                ...                        \n",
       "899995    3.5 stars. \\n Jenna is a popular YA author and...\n",
       "899996    This was a quick read for me. I have read a lo...\n",
       "899997    ** spoiler alert ** \\n 3.5 stars. \\n This book...\n",
       "899998    ** spoiler alert ** \\n Another fun read from M...\n",
       "899999    ** spoiler alert ** \\n 3.5 stars \\n I liked it...\n",
       "Name: review_text, Length: 900000, dtype: object"
      ]
     },
     "execution_count": 9,
     "metadata": {},
     "output_type": "execute_result"
    }
   ],
   "source": [
    "train_book['review_text']"
   ]
  },
  {
   "cell_type": "code",
   "execution_count": 10,
   "id": "4ed9174c",
   "metadata": {
    "execution": {
     "iopub.execute_input": "2022-12-12T09:24:16.686150Z",
     "iopub.status.busy": "2022-12-12T09:24:16.685769Z",
     "iopub.status.idle": "2022-12-12T09:24:16.728743Z",
     "shell.execute_reply": "2022-12-12T09:24:16.727752Z"
    },
    "papermill": {
     "duration": 0.060465,
     "end_time": "2022-12-12T09:24:16.731349",
     "exception": false,
     "start_time": "2022-12-12T09:24:16.670884",
     "status": "completed"
    },
    "tags": []
   },
   "outputs": [],
   "source": [
    "train_book.drop(['user_id','review_id','date_added','date_updated','read_at','started_at'],axis=1,inplace=True)"
   ]
  },
  {
   "cell_type": "code",
   "execution_count": 11,
   "id": "444056ca",
   "metadata": {
    "execution": {
     "iopub.execute_input": "2022-12-12T09:24:16.759167Z",
     "iopub.status.busy": "2022-12-12T09:24:16.758371Z",
     "iopub.status.idle": "2022-12-12T09:24:16.773536Z",
     "shell.execute_reply": "2022-12-12T09:24:16.772380Z"
    },
    "papermill": {
     "duration": 0.031593,
     "end_time": "2022-12-12T09:24:16.775801",
     "exception": false,
     "start_time": "2022-12-12T09:24:16.744208",
     "status": "completed"
    },
    "tags": []
   },
   "outputs": [
    {
     "data": {
      "text/html": [
       "<div>\n",
       "<style scoped>\n",
       "    .dataframe tbody tr th:only-of-type {\n",
       "        vertical-align: middle;\n",
       "    }\n",
       "\n",
       "    .dataframe tbody tr th {\n",
       "        vertical-align: top;\n",
       "    }\n",
       "\n",
       "    .dataframe thead th {\n",
       "        text-align: right;\n",
       "    }\n",
       "</style>\n",
       "<table border=\"1\" class=\"dataframe\">\n",
       "  <thead>\n",
       "    <tr style=\"text-align: right;\">\n",
       "      <th></th>\n",
       "      <th>book_id</th>\n",
       "      <th>rating</th>\n",
       "      <th>review_text</th>\n",
       "      <th>n_votes</th>\n",
       "      <th>n_comments</th>\n",
       "    </tr>\n",
       "  </thead>\n",
       "  <tbody>\n",
       "    <tr>\n",
       "      <th>0</th>\n",
       "      <td>18245960</td>\n",
       "      <td>5</td>\n",
       "      <td>This is a special book. It started slow for ab...</td>\n",
       "      <td>28</td>\n",
       "      <td>1</td>\n",
       "    </tr>\n",
       "    <tr>\n",
       "      <th>1</th>\n",
       "      <td>16981</td>\n",
       "      <td>3</td>\n",
       "      <td>Recommended by Don Katz. Avail for free in Dec...</td>\n",
       "      <td>1</td>\n",
       "      <td>0</td>\n",
       "    </tr>\n",
       "    <tr>\n",
       "      <th>2</th>\n",
       "      <td>28684704</td>\n",
       "      <td>3</td>\n",
       "      <td>A fun, fast paced science fiction thriller. I ...</td>\n",
       "      <td>22</td>\n",
       "      <td>0</td>\n",
       "    </tr>\n",
       "    <tr>\n",
       "      <th>3</th>\n",
       "      <td>27161156</td>\n",
       "      <td>0</td>\n",
       "      <td>Recommended reading to understand what is goin...</td>\n",
       "      <td>5</td>\n",
       "      <td>1</td>\n",
       "    </tr>\n",
       "    <tr>\n",
       "      <th>4</th>\n",
       "      <td>25884323</td>\n",
       "      <td>4</td>\n",
       "      <td>I really enjoyed this book, and there is a lot...</td>\n",
       "      <td>9</td>\n",
       "      <td>1</td>\n",
       "    </tr>\n",
       "    <tr>\n",
       "      <th>...</th>\n",
       "      <td>...</td>\n",
       "      <td>...</td>\n",
       "      <td>...</td>\n",
       "      <td>...</td>\n",
       "      <td>...</td>\n",
       "    </tr>\n",
       "    <tr>\n",
       "      <th>899995</th>\n",
       "      <td>11832081</td>\n",
       "      <td>3</td>\n",
       "      <td>3.5 stars. \\n Jenna is a popular YA author and...</td>\n",
       "      <td>0</td>\n",
       "      <td>0</td>\n",
       "    </tr>\n",
       "    <tr>\n",
       "      <th>899996</th>\n",
       "      <td>16095092</td>\n",
       "      <td>3</td>\n",
       "      <td>This was a quick read for me. I have read a lo...</td>\n",
       "      <td>1</td>\n",
       "      <td>1</td>\n",
       "    </tr>\n",
       "    <tr>\n",
       "      <th>899997</th>\n",
       "      <td>8430896</td>\n",
       "      <td>4</td>\n",
       "      <td>** spoiler alert ** \\n 3.5 stars. \\n This book...</td>\n",
       "      <td>1</td>\n",
       "      <td>0</td>\n",
       "    </tr>\n",
       "    <tr>\n",
       "      <th>899998</th>\n",
       "      <td>12275680</td>\n",
       "      <td>4</td>\n",
       "      <td>** spoiler alert ** \\n Another fun read from M...</td>\n",
       "      <td>0</td>\n",
       "      <td>0</td>\n",
       "    </tr>\n",
       "    <tr>\n",
       "      <th>899999</th>\n",
       "      <td>17005</td>\n",
       "      <td>3</td>\n",
       "      <td>** spoiler alert ** \\n 3.5 stars \\n I liked it...</td>\n",
       "      <td>0</td>\n",
       "      <td>0</td>\n",
       "    </tr>\n",
       "  </tbody>\n",
       "</table>\n",
       "<p>900000 rows × 5 columns</p>\n",
       "</div>"
      ],
      "text/plain": [
       "         book_id  rating                                        review_text  \\\n",
       "0       18245960       5  This is a special book. It started slow for ab...   \n",
       "1          16981       3  Recommended by Don Katz. Avail for free in Dec...   \n",
       "2       28684704       3  A fun, fast paced science fiction thriller. I ...   \n",
       "3       27161156       0  Recommended reading to understand what is goin...   \n",
       "4       25884323       4  I really enjoyed this book, and there is a lot...   \n",
       "...          ...     ...                                                ...   \n",
       "899995  11832081       3  3.5 stars. \\n Jenna is a popular YA author and...   \n",
       "899996  16095092       3  This was a quick read for me. I have read a lo...   \n",
       "899997   8430896       4  ** spoiler alert ** \\n 3.5 stars. \\n This book...   \n",
       "899998  12275680       4  ** spoiler alert ** \\n Another fun read from M...   \n",
       "899999     17005       3  ** spoiler alert ** \\n 3.5 stars \\n I liked it...   \n",
       "\n",
       "        n_votes  n_comments  \n",
       "0            28           1  \n",
       "1             1           0  \n",
       "2            22           0  \n",
       "3             5           1  \n",
       "4             9           1  \n",
       "...         ...         ...  \n",
       "899995        0           0  \n",
       "899996        1           1  \n",
       "899997        1           0  \n",
       "899998        0           0  \n",
       "899999        0           0  \n",
       "\n",
       "[900000 rows x 5 columns]"
      ]
     },
     "execution_count": 11,
     "metadata": {},
     "output_type": "execute_result"
    }
   ],
   "source": [
    "train_book"
   ]
  },
  {
   "cell_type": "code",
   "execution_count": 12,
   "id": "fe462654",
   "metadata": {
    "execution": {
     "iopub.execute_input": "2022-12-12T09:24:16.805107Z",
     "iopub.status.busy": "2022-12-12T09:24:16.804157Z",
     "iopub.status.idle": "2022-12-12T09:24:16.896263Z",
     "shell.execute_reply": "2022-12-12T09:24:16.895052Z"
    },
    "papermill": {
     "duration": 0.109539,
     "end_time": "2022-12-12T09:24:16.898713",
     "exception": false,
     "start_time": "2022-12-12T09:24:16.789174",
     "status": "completed"
    },
    "tags": []
   },
   "outputs": [
    {
     "data": {
      "text/html": [
       "<div>\n",
       "<style scoped>\n",
       "    .dataframe tbody tr th:only-of-type {\n",
       "        vertical-align: middle;\n",
       "    }\n",
       "\n",
       "    .dataframe tbody tr th {\n",
       "        vertical-align: top;\n",
       "    }\n",
       "\n",
       "    .dataframe thead th {\n",
       "        text-align: right;\n",
       "    }\n",
       "</style>\n",
       "<table border=\"1\" class=\"dataframe\">\n",
       "  <thead>\n",
       "    <tr style=\"text-align: right;\">\n",
       "      <th></th>\n",
       "      <th>book_id</th>\n",
       "      <th>rating</th>\n",
       "      <th>n_votes</th>\n",
       "      <th>n_comments</th>\n",
       "    </tr>\n",
       "  </thead>\n",
       "  <tbody>\n",
       "    <tr>\n",
       "      <th>book_id</th>\n",
       "      <td>1.000000</td>\n",
       "      <td>0.022840</td>\n",
       "      <td>0.076208</td>\n",
       "      <td>0.030068</td>\n",
       "    </tr>\n",
       "    <tr>\n",
       "      <th>rating</th>\n",
       "      <td>0.022840</td>\n",
       "      <td>1.000000</td>\n",
       "      <td>0.006663</td>\n",
       "      <td>-0.003530</td>\n",
       "    </tr>\n",
       "    <tr>\n",
       "      <th>n_votes</th>\n",
       "      <td>0.076208</td>\n",
       "      <td>0.006663</td>\n",
       "      <td>1.000000</td>\n",
       "      <td>0.626733</td>\n",
       "    </tr>\n",
       "    <tr>\n",
       "      <th>n_comments</th>\n",
       "      <td>0.030068</td>\n",
       "      <td>-0.003530</td>\n",
       "      <td>0.626733</td>\n",
       "      <td>1.000000</td>\n",
       "    </tr>\n",
       "  </tbody>\n",
       "</table>\n",
       "</div>"
      ],
      "text/plain": [
       "             book_id    rating   n_votes  n_comments\n",
       "book_id     1.000000  0.022840  0.076208    0.030068\n",
       "rating      0.022840  1.000000  0.006663   -0.003530\n",
       "n_votes     0.076208  0.006663  1.000000    0.626733\n",
       "n_comments  0.030068 -0.003530  0.626733    1.000000"
      ]
     },
     "execution_count": 12,
     "metadata": {},
     "output_type": "execute_result"
    }
   ],
   "source": [
    "train_book.corr()#find the correlation between the respective columns to be involved in prediction."
   ]
  },
  {
   "cell_type": "code",
   "execution_count": 13,
   "id": "dcaea665",
   "metadata": {
    "execution": {
     "iopub.execute_input": "2022-12-12T09:24:16.927343Z",
     "iopub.status.busy": "2022-12-12T09:24:16.926953Z",
     "iopub.status.idle": "2022-12-12T09:24:16.943063Z",
     "shell.execute_reply": "2022-12-12T09:24:16.941977Z"
    },
    "papermill": {
     "duration": 0.033406,
     "end_time": "2022-12-12T09:24:16.945626",
     "exception": false,
     "start_time": "2022-12-12T09:24:16.912220",
     "status": "completed"
    },
    "tags": []
   },
   "outputs": [
    {
     "data": {
      "text/plain": [
       "array([5, 3, 0, 4, 2, 1])"
      ]
     },
     "execution_count": 13,
     "metadata": {},
     "output_type": "execute_result"
    }
   ],
   "source": [
    "# unique ratings\n",
    "pd.unique(train_book['rating'])"
   ]
  },
  {
   "cell_type": "code",
   "execution_count": 14,
   "id": "27803cf3",
   "metadata": {
    "execution": {
     "iopub.execute_input": "2022-12-12T09:24:16.974456Z",
     "iopub.status.busy": "2022-12-12T09:24:16.974084Z",
     "iopub.status.idle": "2022-12-12T09:24:16.992831Z",
     "shell.execute_reply": "2022-12-12T09:24:16.991743Z"
    },
    "papermill": {
     "duration": 0.035849,
     "end_time": "2022-12-12T09:24:16.995064",
     "exception": false,
     "start_time": "2022-12-12T09:24:16.959215",
     "status": "completed"
    },
    "tags": []
   },
   "outputs": [
    {
     "data": {
      "text/plain": [
       "4    0.348542\n",
       "5    0.294452\n",
       "3    0.209969\n",
       "2    0.080697\n",
       "0    0.034431\n",
       "1    0.031909\n",
       "Name: rating, dtype: float64"
      ]
     },
     "execution_count": 14,
     "metadata": {},
     "output_type": "execute_result"
    }
   ],
   "source": [
    "train_book['rating'].value_counts(normalize=True)"
   ]
  },
  {
   "cell_type": "code",
   "execution_count": 15,
   "id": "67f987e2",
   "metadata": {
    "execution": {
     "iopub.execute_input": "2022-12-12T09:24:17.024612Z",
     "iopub.status.busy": "2022-12-12T09:24:17.024180Z",
     "iopub.status.idle": "2022-12-12T09:24:17.038607Z",
     "shell.execute_reply": "2022-12-12T09:24:17.037462Z"
    },
    "papermill": {
     "duration": 0.032139,
     "end_time": "2022-12-12T09:24:17.040994",
     "exception": false,
     "start_time": "2022-12-12T09:24:17.008855",
     "status": "completed"
    },
    "tags": []
   },
   "outputs": [
    {
     "data": {
      "text/plain": [
       "array([   1,    0,    5,    3,    6,    4,    2,   10,   25,    9,    7,\n",
       "          8,   13,   18,   14,   11,   12,   21,   17,   22,   16,   50,\n",
       "         23,   39,   15,   20,   27,   64,   32,   75,   -1,   19,   35,\n",
       "         24,   26,   47,   34,   52,   53,   29,   66,   30,   33,   42,\n",
       "         59,   63,   28,   38,   36,   43,   40,   41,   56,   49,   37,\n",
       "         44,   55,   45,   96,   73,   31,   62,  105,   60,   84,   58,\n",
       "         76,   65,   51,  146,   54,   85,   61,   70,  102,  132,   48,\n",
       "        106,   71,   57,   86,   46,  115,  117,   77,   88,  564,  140,\n",
       "         80,   68,   79,  285,   67,   81,   98,   90,   95,  110,   99,\n",
       "         94,   72,  155,  103,  109,   74,  135,  190,   93,   69,  804,\n",
       "         91,  126,  158,  104,  120,   89,   92,  134,   97,  108,  468,\n",
       "         82,   83,  127,  101,  123,  133,  118,  131,  112,   78,  116,\n",
       "        136,  128,  165,  125,  107,  144,  141,  124,   87,  100, 1335,\n",
       "        138,  121,  161,  170,  143,  202,  222,  159,  157,  142,  119,\n",
       "        210,  150,  162,  111,  167,  130,  189,  197,  156,  192,  453,\n",
       "        287,  267,  289,  145,  178,  194,  122,  308,  253,  655,  198,\n",
       "        436,  443,  429,  175,  632,  168,  225,  369,  260,  600,  833,\n",
       "        229,  213,  176,  191,  509,  113,  214,  330,  164,  139,  263,\n",
       "        114,  163,  448,  152,  235,  248,  149,  537,  147,  266,  193,\n",
       "        195,  160,  660,  264,  507,  166,  645,  174,  291,  153,  209,\n",
       "        255,  283,  256,  302,  182,  269,  172,  177,  183,  137,  437,\n",
       "        223,  320,  221,  290,  242])"
      ]
     },
     "execution_count": 15,
     "metadata": {},
     "output_type": "execute_result"
    }
   ],
   "source": [
    "pd.unique(train_book['n_comments'])"
   ]
  },
  {
   "cell_type": "markdown",
   "id": "42703513",
   "metadata": {
    "papermill": {
     "duration": 0.013857,
     "end_time": "2022-12-12T09:24:17.069002",
     "exception": false,
     "start_time": "2022-12-12T09:24:17.055145",
     "status": "completed"
    },
    "tags": []
   },
   "source": [
    "* Categorize good book and average and not recommeded book on basis of reviews andratings."
   ]
  },
  {
   "cell_type": "code",
   "execution_count": 16,
   "id": "05f76147",
   "metadata": {
    "execution": {
     "iopub.execute_input": "2022-12-12T09:24:17.098406Z",
     "iopub.status.busy": "2022-12-12T09:24:17.097759Z",
     "iopub.status.idle": "2022-12-12T09:24:17.420609Z",
     "shell.execute_reply": "2022-12-12T09:24:17.419798Z"
    },
    "papermill": {
     "duration": 0.339966,
     "end_time": "2022-12-12T09:24:17.422774",
     "exception": false,
     "start_time": "2022-12-12T09:24:17.082808",
     "status": "completed"
    },
    "tags": []
   },
   "outputs": [
    {
     "data": {
      "text/plain": [
       "[Text(0.5, 1.0, 'Ratings of all books')]"
      ]
     },
     "execution_count": 16,
     "metadata": {},
     "output_type": "execute_result"
    },
    {
     "data": {
      "image/png": "[encoded data removed]",
      "text/plain": [
       "<Figure size 432x288 with 1 Axes>"
      ]
     },
     "metadata": {
      "needs_background": "light"
     },
     "output_type": "display_data"
    }
   ],
   "source": [
    "sns.countplot(data=train_book,\n",
    "              x='rating',\n",
    "              order=train_book.rating.value_counts().index).set(title='Ratings of all books')\n"
   ]
  },
  {
   "cell_type": "code",
   "execution_count": 17,
   "id": "fbe5c30d",
   "metadata": {
    "execution": {
     "iopub.execute_input": "2022-12-12T09:24:17.452972Z",
     "iopub.status.busy": "2022-12-12T09:24:17.452302Z",
     "iopub.status.idle": "2022-12-12T09:24:17.459026Z",
     "shell.execute_reply": "2022-12-12T09:24:17.458229Z"
    },
    "papermill": {
     "duration": 0.024445,
     "end_time": "2022-12-12T09:24:17.461348",
     "exception": false,
     "start_time": "2022-12-12T09:24:17.436903",
     "status": "completed"
    },
    "tags": []
   },
   "outputs": [],
   "source": [
    "#importing nlp library\n",
    "import nltk\n",
    "#Stop words present in the library\n",
    "stopwords = nltk.corpus.stopwords.words('english')"
   ]
  },
  {
   "cell_type": "code",
   "execution_count": 18,
   "id": "95176148",
   "metadata": {
    "execution": {
     "iopub.execute_input": "2022-12-12T09:24:17.491731Z",
     "iopub.status.busy": "2022-12-12T09:24:17.491067Z",
     "iopub.status.idle": "2022-12-12T09:24:29.998904Z",
     "shell.execute_reply": "2022-12-12T09:24:29.997414Z"
    },
    "papermill": {
     "duration": 12.52598,
     "end_time": "2022-12-12T09:24:30.001631",
     "exception": false,
     "start_time": "2022-12-12T09:24:17.475651",
     "status": "completed"
    },
    "tags": []
   },
   "outputs": [
    {
     "name": "stdout",
     "output_type": "stream",
     "text": [
      "Requirement already satisfied: wordcloud in /opt/conda/lib/python3.7/site-packages (1.8.2.2)\r\n",
      "Requirement already satisfied: pillow in /opt/conda/lib/python3.7/site-packages (from wordcloud) (9.1.1)\r\n",
      "Requirement already satisfied: matplotlib in /opt/conda/lib/python3.7/site-packages (from wordcloud) (3.5.3)\r\n",
      "Requirement already satisfied: numpy>=1.6.1 in /opt/conda/lib/python3.7/site-packages (from wordcloud) (1.21.6)\r\n",
      "Requirement already satisfied: pyparsing>=2.2.1 in /opt/conda/lib/python3.7/site-packages (from matplotlib->wordcloud) (3.0.9)\r\n",
      "Requirement already satisfied: python-dateutil>=2.7 in /opt/conda/lib/python3.7/site-packages (from matplotlib->wordcloud) (2.8.2)\r\n",
      "Requirement already satisfied: cycler>=0.10 in /opt/conda/lib/python3.7/site-packages (from matplotlib->wordcloud) (0.11.0)\r\n",
      "Requirement already satisfied: kiwisolver>=1.0.1 in /opt/conda/lib/python3.7/site-packages (from matplotlib->wordcloud) (1.4.3)\r\n",
      "Requirement already satisfied: packaging>=20.0 in /opt/conda/lib/python3.7/site-packages (from matplotlib->wordcloud) (21.3)\r\n",
      "Requirement already satisfied: fonttools>=4.22.0 in /opt/conda/lib/python3.7/site-packages (from matplotlib->wordcloud) (4.33.3)\r\n",
      "Requirement already satisfied: typing-extensions in /opt/conda/lib/python3.7/site-packages (from kiwisolver>=1.0.1->matplotlib->wordcloud) (4.4.0)\r\n",
      "Requirement already satisfied: six>=1.5 in /opt/conda/lib/python3.7/site-packages (from python-dateutil>=2.7->matplotlib->wordcloud) (1.15.0)\r\n",
      "\u001b[33mWARNING: Running pip as the 'root' user can result in broken permissions and conflicting behaviour with the system package manager. It is recommended to use a virtual environment instead: https://pip.pypa.io/warnings/venv\u001b[0m\u001b[33m\r\n",
      "\u001b[0m"
     ]
    }
   ],
   "source": [
    "!pip install wordcloud  "
   ]
  },
  {
   "cell_type": "code",
   "execution_count": 19,
   "id": "a49bf54f",
   "metadata": {
    "execution": {
     "iopub.execute_input": "2022-12-12T09:24:30.032474Z",
     "iopub.status.busy": "2022-12-12T09:24:30.032054Z",
     "iopub.status.idle": "2022-12-12T09:31:12.012398Z",
     "shell.execute_reply": "2022-12-12T09:31:12.011300Z"
    },
    "papermill": {
     "duration": 401.998873,
     "end_time": "2022-12-12T09:31:12.014929",
     "exception": false,
     "start_time": "2022-12-12T09:24:30.016056",
     "status": "completed"
    },
    "tags": []
   },
   "outputs": [
    {
     "name": "stderr",
     "output_type": "stream",
     "text": [
      "[nltk_data] Downloading package stopwords to /usr/share/nltk_data...\n",
      "[nltk_data]   Package stopwords is already up-to-date!\n"
     ]
    }
   ],
   "source": [
    "import pandas as pd\n",
    "import nltk.corpus\n",
    "nltk.download('stopwords')\n",
    "from nltk.corpus import stopwords\n",
    "stop_words = stopwords.words('english')\n",
    "train_book['review_text']=train_book['review_text'].apply(lambda x: ' '.join([word for word in x.split() if word not in (stop_words)]))"
   ]
  },
  {
   "cell_type": "markdown",
   "id": "3fbcf894",
   "metadata": {
    "papermill": {
     "duration": 0.014057,
     "end_time": "2022-12-12T09:31:12.043840",
     "exception": false,
     "start_time": "2022-12-12T09:31:12.029783",
     "status": "completed"
    },
    "tags": []
   },
   "source": [
    "**Make text data as lower**"
   ]
  },
  {
   "cell_type": "code",
   "execution_count": 20,
   "id": "c8433b04",
   "metadata": {
    "execution": {
     "iopub.execute_input": "2022-12-12T09:31:12.074609Z",
     "iopub.status.busy": "2022-12-12T09:31:12.073646Z",
     "iopub.status.idle": "2022-12-12T09:31:13.444043Z",
     "shell.execute_reply": "2022-12-12T09:31:13.442934Z"
    },
    "papermill": {
     "duration": 1.388961,
     "end_time": "2022-12-12T09:31:13.446999",
     "exception": false,
     "start_time": "2022-12-12T09:31:12.058038",
     "status": "completed"
    },
    "tags": []
   },
   "outputs": [],
   "source": [
    "train_book['review_text']= train_book['review_text'].apply(lambda x: x.lower())"
   ]
  },
  {
   "cell_type": "code",
   "execution_count": 21,
   "id": "52f94ead",
   "metadata": {
    "execution": {
     "iopub.execute_input": "2022-12-12T09:31:13.477929Z",
     "iopub.status.busy": "2022-12-12T09:31:13.477248Z",
     "iopub.status.idle": "2022-12-12T09:31:13.493319Z",
     "shell.execute_reply": "2022-12-12T09:31:13.492259Z"
    },
    "papermill": {
     "duration": 0.034201,
     "end_time": "2022-12-12T09:31:13.495796",
     "exception": false,
     "start_time": "2022-12-12T09:31:13.461595",
     "status": "completed"
    },
    "tags": []
   },
   "outputs": [
    {
     "data": {
      "text/html": [
       "<div>\n",
       "<style scoped>\n",
       "    .dataframe tbody tr th:only-of-type {\n",
       "        vertical-align: middle;\n",
       "    }\n",
       "\n",
       "    .dataframe tbody tr th {\n",
       "        vertical-align: top;\n",
       "    }\n",
       "\n",
       "    .dataframe thead th {\n",
       "        text-align: right;\n",
       "    }\n",
       "</style>\n",
       "<table border=\"1\" class=\"dataframe\">\n",
       "  <thead>\n",
       "    <tr style=\"text-align: right;\">\n",
       "      <th></th>\n",
       "      <th>book_id</th>\n",
       "      <th>rating</th>\n",
       "      <th>review_text</th>\n",
       "      <th>n_votes</th>\n",
       "      <th>n_comments</th>\n",
       "    </tr>\n",
       "  </thead>\n",
       "  <tbody>\n",
       "    <tr>\n",
       "      <th>0</th>\n",
       "      <td>18245960</td>\n",
       "      <td>5</td>\n",
       "      <td>this special book. it started slow first third...</td>\n",
       "      <td>28</td>\n",
       "      <td>1</td>\n",
       "    </tr>\n",
       "    <tr>\n",
       "      <th>1</th>\n",
       "      <td>16981</td>\n",
       "      <td>3</td>\n",
       "      <td>recommended don katz. avail free december: htt...</td>\n",
       "      <td>1</td>\n",
       "      <td>0</td>\n",
       "    </tr>\n",
       "    <tr>\n",
       "      <th>2</th>\n",
       "      <td>28684704</td>\n",
       "      <td>3</td>\n",
       "      <td>a fun, fast paced science fiction thriller. i ...</td>\n",
       "      <td>22</td>\n",
       "      <td>0</td>\n",
       "    </tr>\n",
       "    <tr>\n",
       "      <th>3</th>\n",
       "      <td>27161156</td>\n",
       "      <td>0</td>\n",
       "      <td>recommended reading understand going middle am...</td>\n",
       "      <td>5</td>\n",
       "      <td>1</td>\n",
       "    </tr>\n",
       "    <tr>\n",
       "      <th>4</th>\n",
       "      <td>25884323</td>\n",
       "      <td>4</td>\n",
       "      <td>i really enjoyed book, lot recommend it. it dr...</td>\n",
       "      <td>9</td>\n",
       "      <td>1</td>\n",
       "    </tr>\n",
       "    <tr>\n",
       "      <th>...</th>\n",
       "      <td>...</td>\n",
       "      <td>...</td>\n",
       "      <td>...</td>\n",
       "      <td>...</td>\n",
       "      <td>...</td>\n",
       "    </tr>\n",
       "    <tr>\n",
       "      <th>899995</th>\n",
       "      <td>11832081</td>\n",
       "      <td>3</td>\n",
       "      <td>3.5 stars. jenna popular ya author agent wants...</td>\n",
       "      <td>0</td>\n",
       "      <td>0</td>\n",
       "    </tr>\n",
       "    <tr>\n",
       "      <th>899996</th>\n",
       "      <td>16095092</td>\n",
       "      <td>3</td>\n",
       "      <td>this quick read me. i read lot new adult books...</td>\n",
       "      <td>1</td>\n",
       "      <td>1</td>\n",
       "    </tr>\n",
       "    <tr>\n",
       "      <th>899997</th>\n",
       "      <td>8430896</td>\n",
       "      <td>4</td>\n",
       "      <td>** spoiler alert ** 3.5 stars. this book sweet...</td>\n",
       "      <td>1</td>\n",
       "      <td>0</td>\n",
       "    </tr>\n",
       "    <tr>\n",
       "      <th>899998</th>\n",
       "      <td>12275680</td>\n",
       "      <td>4</td>\n",
       "      <td>** spoiler alert ** another fun read ms evanov...</td>\n",
       "      <td>0</td>\n",
       "      <td>0</td>\n",
       "    </tr>\n",
       "    <tr>\n",
       "      <th>899999</th>\n",
       "      <td>17005</td>\n",
       "      <td>3</td>\n",
       "      <td>** spoiler alert ** 3.5 stars i liked it! the ...</td>\n",
       "      <td>0</td>\n",
       "      <td>0</td>\n",
       "    </tr>\n",
       "  </tbody>\n",
       "</table>\n",
       "<p>900000 rows × 5 columns</p>\n",
       "</div>"
      ],
      "text/plain": [
       "         book_id  rating                                        review_text  \\\n",
       "0       18245960       5  this special book. it started slow first third...   \n",
       "1          16981       3  recommended don katz. avail free december: htt...   \n",
       "2       28684704       3  a fun, fast paced science fiction thriller. i ...   \n",
       "3       27161156       0  recommended reading understand going middle am...   \n",
       "4       25884323       4  i really enjoyed book, lot recommend it. it dr...   \n",
       "...          ...     ...                                                ...   \n",
       "899995  11832081       3  3.5 stars. jenna popular ya author agent wants...   \n",
       "899996  16095092       3  this quick read me. i read lot new adult books...   \n",
       "899997   8430896       4  ** spoiler alert ** 3.5 stars. this book sweet...   \n",
       "899998  12275680       4  ** spoiler alert ** another fun read ms evanov...   \n",
       "899999     17005       3  ** spoiler alert ** 3.5 stars i liked it! the ...   \n",
       "\n",
       "        n_votes  n_comments  \n",
       "0            28           1  \n",
       "1             1           0  \n",
       "2            22           0  \n",
       "3             5           1  \n",
       "4             9           1  \n",
       "...         ...         ...  \n",
       "899995        0           0  \n",
       "899996        1           1  \n",
       "899997        1           0  \n",
       "899998        0           0  \n",
       "899999        0           0  \n",
       "\n",
       "[900000 rows x 5 columns]"
      ]
     },
     "execution_count": 21,
     "metadata": {},
     "output_type": "execute_result"
    }
   ],
   "source": [
    "train_book"
   ]
  },
  {
   "cell_type": "markdown",
   "id": "d7dc55a6",
   "metadata": {
    "papermill": {
     "duration": 0.014175,
     "end_time": "2022-12-12T09:31:13.524855",
     "exception": false,
     "start_time": "2022-12-12T09:31:13.510680",
     "status": "completed"
    },
    "tags": []
   },
   "source": [
    "**Import punctuation library**"
   ]
  },
  {
   "cell_type": "code",
   "execution_count": 22,
   "id": "9fe52c93",
   "metadata": {
    "execution": {
     "iopub.execute_input": "2022-12-12T09:31:13.556204Z",
     "iopub.status.busy": "2022-12-12T09:31:13.555427Z",
     "iopub.status.idle": "2022-12-12T09:31:13.562203Z",
     "shell.execute_reply": "2022-12-12T09:31:13.561352Z"
    },
    "papermill": {
     "duration": 0.024877,
     "end_time": "2022-12-12T09:31:13.564375",
     "exception": false,
     "start_time": "2022-12-12T09:31:13.539498",
     "status": "completed"
    },
    "tags": []
   },
   "outputs": [
    {
     "data": {
      "text/plain": [
       "'!\"#$%&\\'()*+,-./:;<=>?@[\\\\]^_`{|}~'"
      ]
     },
     "execution_count": 22,
     "metadata": {},
     "output_type": "execute_result"
    }
   ],
   "source": [
    "#library that contains punctuation\n",
    "import string\n",
    "string.punctuation"
   ]
  },
  {
   "cell_type": "markdown",
   "id": "fcd6a3a7",
   "metadata": {
    "papermill": {
     "duration": 0.01424,
     "end_time": "2022-12-12T09:31:13.593248",
     "exception": false,
     "start_time": "2022-12-12T09:31:13.579008",
     "status": "completed"
    },
    "tags": []
   },
   "source": [
    "**Remove Punctuation**"
   ]
  },
  {
   "cell_type": "code",
   "execution_count": 23,
   "id": "8b85e978",
   "metadata": {
    "execution": {
     "iopub.execute_input": "2022-12-12T09:31:13.624596Z",
     "iopub.status.busy": "2022-12-12T09:31:13.624191Z",
     "iopub.status.idle": "2022-12-12T09:31:44.506338Z",
     "shell.execute_reply": "2022-12-12T09:31:44.505116Z"
    },
    "papermill": {
     "duration": 30.901239,
     "end_time": "2022-12-12T09:31:44.509027",
     "exception": false,
     "start_time": "2022-12-12T09:31:13.607788",
     "status": "completed"
    },
    "tags": []
   },
   "outputs": [],
   "source": [
    "# Define the function to remove the punctuation\n",
    "def remove_punctuations(text):\n",
    "    for punctuation in string.punctuation:\n",
    "        text = text.replace(punctuation, '')\n",
    "    return text\n",
    "# Apply to the DF series\n",
    "train_book['review_text'] =train_book['review_text'].apply(remove_punctuations)"
   ]
  },
  {
   "cell_type": "markdown",
   "id": "d9d9b239",
   "metadata": {
    "papermill": {
     "duration": 0.014465,
     "end_time": "2022-12-12T09:31:44.538499",
     "exception": false,
     "start_time": "2022-12-12T09:31:44.524034",
     "status": "completed"
    },
    "tags": []
   },
   "source": [
    "**Remove the urls**"
   ]
  },
  {
   "cell_type": "code",
   "execution_count": 24,
   "id": "9ab87a5b",
   "metadata": {
    "execution": {
     "iopub.execute_input": "2022-12-12T09:31:44.569807Z",
     "iopub.status.busy": "2022-12-12T09:31:44.569392Z",
     "iopub.status.idle": "2022-12-12T09:31:48.649535Z",
     "shell.execute_reply": "2022-12-12T09:31:48.648469Z"
    },
    "papermill": {
     "duration": 4.098698,
     "end_time": "2022-12-12T09:31:48.651971",
     "exception": false,
     "start_time": "2022-12-12T09:31:44.553273",
     "status": "completed"
    },
    "tags": []
   },
   "outputs": [],
   "source": [
    "train_book['review_text'] =train_book['review_text'].replace(r'http\\S+', '', regex=True).replace(r'www\\S+', '', regex=True)"
   ]
  },
  {
   "cell_type": "markdown",
   "id": "4c0f52ac",
   "metadata": {
    "papermill": {
     "duration": 0.014508,
     "end_time": "2022-12-12T09:31:48.681524",
     "exception": false,
     "start_time": "2022-12-12T09:31:48.667016",
     "status": "completed"
    },
    "tags": []
   },
   "source": [
    "**Remove the numbers from the text data**"
   ]
  },
  {
   "cell_type": "code",
   "execution_count": 25,
   "id": "ad347e3a",
   "metadata": {
    "execution": {
     "iopub.execute_input": "2022-12-12T09:31:48.714274Z",
     "iopub.status.busy": "2022-12-12T09:31:48.713508Z",
     "iopub.status.idle": "2022-12-12T09:32:02.501155Z",
     "shell.execute_reply": "2022-12-12T09:32:02.500173Z"
    },
    "papermill": {
     "duration": 13.807553,
     "end_time": "2022-12-12T09:32:02.504001",
     "exception": false,
     "start_time": "2022-12-12T09:31:48.696448",
     "status": "completed"
    },
    "tags": []
   },
   "outputs": [
    {
     "name": "stderr",
     "output_type": "stream",
     "text": [
      "/opt/conda/lib/python3.7/site-packages/ipykernel_launcher.py:1: FutureWarning: The default value of regex will change from True to False in a future version.\n",
      "  \"\"\"Entry point for launching an IPython kernel.\n"
     ]
    }
   ],
   "source": [
    "train_book['review_text'] =train_book['review_text'].str.replace('\\d+', '')"
   ]
  },
  {
   "cell_type": "markdown",
   "id": "d47bab7c",
   "metadata": {
    "papermill": {
     "duration": 0.014587,
     "end_time": "2022-12-12T09:32:02.533690",
     "exception": false,
     "start_time": "2022-12-12T09:32:02.519103",
     "status": "completed"
    },
    "tags": []
   },
   "source": [
    "**Do the tokenization operation on text data**"
   ]
  },
  {
   "cell_type": "code",
   "execution_count": 26,
   "id": "47db505d",
   "metadata": {
    "execution": {
     "iopub.execute_input": "2022-12-12T09:32:02.565893Z",
     "iopub.status.busy": "2022-12-12T09:32:02.565202Z",
     "iopub.status.idle": "2022-12-12T09:32:17.737189Z",
     "shell.execute_reply": "2022-12-12T09:32:17.735928Z"
    },
    "papermill": {
     "duration": 15.192273,
     "end_time": "2022-12-12T09:32:17.740720",
     "exception": false,
     "start_time": "2022-12-12T09:32:02.548447",
     "status": "completed"
    },
    "tags": []
   },
   "outputs": [],
   "source": [
    "\n",
    "def tokenize_data(text):\n",
    "    tokens=re.split('w+',text)\n",
    "    return tokens\n",
    "train_book['review_text']=train_book['review_text'].apply(lambda x : tokenize_data(x))"
   ]
  },
  {
   "cell_type": "code",
   "execution_count": 27,
   "id": "322ad51e",
   "metadata": {
    "execution": {
     "iopub.execute_input": "2022-12-12T09:32:17.787915Z",
     "iopub.status.busy": "2022-12-12T09:32:17.787457Z",
     "iopub.status.idle": "2022-12-12T09:32:17.809304Z",
     "shell.execute_reply": "2022-12-12T09:32:17.808066Z"
    },
    "papermill": {
     "duration": 0.056497,
     "end_time": "2022-12-12T09:32:17.812314",
     "exception": false,
     "start_time": "2022-12-12T09:32:17.755817",
     "status": "completed"
    },
    "tags": []
   },
   "outputs": [],
   "source": [
    "#importing the Stemming function from nltk library\n",
    "from nltk.stem.porter import PorterStemmer\n",
    "#defining the object for stemming\n",
    "porter_stemmer = PorterStemmer()"
   ]
  },
  {
   "cell_type": "code",
   "execution_count": 28,
   "id": "9c71c578",
   "metadata": {
    "execution": {
     "iopub.execute_input": "2022-12-12T09:32:17.843817Z",
     "iopub.status.busy": "2022-12-12T09:32:17.843165Z",
     "iopub.status.idle": "2022-12-12T09:37:06.989530Z",
     "shell.execute_reply": "2022-12-12T09:37:06.988439Z"
    },
    "papermill": {
     "duration": 289.164962,
     "end_time": "2022-12-12T09:37:06.992155",
     "exception": false,
     "start_time": "2022-12-12T09:32:17.827193",
     "status": "completed"
    },
    "tags": []
   },
   "outputs": [],
   "source": [
    "def stemmer(text):\n",
    "    data_steemer=[porter_stemmer.stem(word)for word in text]\n",
    "    return data_steemer\n",
    "train_book['review_text']=train_book['review_text'].apply(lambda x:stemmer(x))"
   ]
  },
  {
   "cell_type": "code",
   "execution_count": 29,
   "id": "fccbb011",
   "metadata": {
    "execution": {
     "iopub.execute_input": "2022-12-12T09:37:07.025615Z",
     "iopub.status.busy": "2022-12-12T09:37:07.024609Z",
     "iopub.status.idle": "2022-12-12T09:37:07.332934Z",
     "shell.execute_reply": "2022-12-12T09:37:07.331750Z"
    },
    "papermill": {
     "duration": 0.327079,
     "end_time": "2022-12-12T09:37:07.335310",
     "exception": false,
     "start_time": "2022-12-12T09:37:07.008231",
     "status": "completed"
    },
    "tags": []
   },
   "outputs": [
    {
     "name": "stderr",
     "output_type": "stream",
     "text": [
      "[nltk_data] Downloading package wordnet to /usr/share/nltk_data...\n",
      "[nltk_data]   Package wordnet is already up-to-date!\n",
      "[nltk_data] Downloading package omw-1.4 to /usr/share/nltk_data...\n"
     ]
    },
    {
     "data": {
      "text/plain": [
       "True"
      ]
     },
     "execution_count": 29,
     "metadata": {},
     "output_type": "execute_result"
    }
   ],
   "source": [
    "nltk.download('wordnet')\n",
    "nltk.download('omw-1.4')"
   ]
  },
  {
   "cell_type": "code",
   "execution_count": 30,
   "id": "70a4da36",
   "metadata": {
    "execution": {
     "iopub.execute_input": "2022-12-12T09:37:07.367486Z",
     "iopub.status.busy": "2022-12-12T09:37:07.367121Z",
     "iopub.status.idle": "2022-12-12T09:37:09.868809Z",
     "shell.execute_reply": "2022-12-12T09:37:09.867703Z"
    },
    "papermill": {
     "duration": 2.520965,
     "end_time": "2022-12-12T09:37:09.871739",
     "exception": false,
     "start_time": "2022-12-12T09:37:07.350774",
     "status": "completed"
    },
    "tags": []
   },
   "outputs": [],
   "source": [
    "train_book['review_text'] = [','.join(map(str, l)) for l in train_book['review_text']]"
   ]
  },
  {
   "cell_type": "code",
   "execution_count": 31,
   "id": "f291616e",
   "metadata": {
    "execution": {
     "iopub.execute_input": "2022-12-12T09:37:09.904140Z",
     "iopub.status.busy": "2022-12-12T09:37:09.903776Z",
     "iopub.status.idle": "2022-12-12T09:37:09.919521Z",
     "shell.execute_reply": "2022-12-12T09:37:09.918415Z"
    },
    "papermill": {
     "duration": 0.035039,
     "end_time": "2022-12-12T09:37:09.921952",
     "exception": false,
     "start_time": "2022-12-12T09:37:09.886913",
     "status": "completed"
    },
    "tags": []
   },
   "outputs": [
    {
     "data": {
      "text/html": [
       "<div>\n",
       "<style scoped>\n",
       "    .dataframe tbody tr th:only-of-type {\n",
       "        vertical-align: middle;\n",
       "    }\n",
       "\n",
       "    .dataframe tbody tr th {\n",
       "        vertical-align: top;\n",
       "    }\n",
       "\n",
       "    .dataframe thead th {\n",
       "        text-align: right;\n",
       "    }\n",
       "</style>\n",
       "<table border=\"1\" class=\"dataframe\">\n",
       "  <thead>\n",
       "    <tr style=\"text-align: right;\">\n",
       "      <th></th>\n",
       "      <th>book_id</th>\n",
       "      <th>rating</th>\n",
       "      <th>review_text</th>\n",
       "      <th>n_votes</th>\n",
       "      <th>n_comments</th>\n",
       "    </tr>\n",
       "  </thead>\n",
       "  <tbody>\n",
       "    <tr>\n",
       "      <th>0</th>\n",
       "      <td>18245960</td>\n",
       "      <td>5</td>\n",
       "      <td>this special book it started slo, first third ...</td>\n",
       "      <td>28</td>\n",
       "      <td>1</td>\n",
       "    </tr>\n",
       "    <tr>\n",
       "      <th>1</th>\n",
       "      <td>16981</td>\n",
       "      <td>3</td>\n",
       "      <td>recommended don katz avail free december</td>\n",
       "      <td>1</td>\n",
       "      <td>0</td>\n",
       "    </tr>\n",
       "    <tr>\n",
       "      <th>2</th>\n",
       "      <td>28684704</td>\n",
       "      <td>3</td>\n",
       "      <td>a fun fast paced science fiction thriller i re...</td>\n",
       "      <td>22</td>\n",
       "      <td>0</td>\n",
       "    </tr>\n",
       "    <tr>\n",
       "      <th>3</th>\n",
       "      <td>27161156</td>\n",
       "      <td>0</td>\n",
       "      <td>recommended reading understand going middle am...</td>\n",
       "      <td>5</td>\n",
       "      <td>1</td>\n",
       "    </tr>\n",
       "    <tr>\n",
       "      <th>4</th>\n",
       "      <td>25884323</td>\n",
       "      <td>4</td>\n",
       "      <td>i really enjoyed book lot recommend it it drag...</td>\n",
       "      <td>9</td>\n",
       "      <td>1</td>\n",
       "    </tr>\n",
       "    <tr>\n",
       "      <th>...</th>\n",
       "      <td>...</td>\n",
       "      <td>...</td>\n",
       "      <td>...</td>\n",
       "      <td>...</td>\n",
       "      <td>...</td>\n",
       "    </tr>\n",
       "    <tr>\n",
       "      <th>899995</th>\n",
       "      <td>11832081</td>\n",
       "      <td>3</td>\n",
       "      <td>stars jenna popular ya author agent ,ants cha...</td>\n",
       "      <td>0</td>\n",
       "      <td>0</td>\n",
       "    </tr>\n",
       "    <tr>\n",
       "      <th>899996</th>\n",
       "      <td>16095092</td>\n",
       "      <td>3</td>\n",
       "      <td>this quick read me i read lot n, adult books r...</td>\n",
       "      <td>1</td>\n",
       "      <td>1</td>\n",
       "    </tr>\n",
       "    <tr>\n",
       "      <th>899997</th>\n",
       "      <td>8430896</td>\n",
       "      <td>4</td>\n",
       "      <td>spoiler alert   stars this book ,eet inside o...</td>\n",
       "      <td>1</td>\n",
       "      <td>0</td>\n",
       "    </tr>\n",
       "    <tr>\n",
       "      <th>899998</th>\n",
       "      <td>12275680</td>\n",
       "      <td>4</td>\n",
       "      <td>spoiler alert  another fun read ms evanovich ...</td>\n",
       "      <td>0</td>\n",
       "      <td>0</td>\n",
       "    </tr>\n",
       "    <tr>\n",
       "      <th>899999</th>\n",
       "      <td>17005</td>\n",
       "      <td>3</td>\n",
       "      <td>spoiler alert   stars i liked it the story or...</td>\n",
       "      <td>0</td>\n",
       "      <td>0</td>\n",
       "    </tr>\n",
       "  </tbody>\n",
       "</table>\n",
       "<p>900000 rows × 5 columns</p>\n",
       "</div>"
      ],
      "text/plain": [
       "         book_id  rating                                        review_text  \\\n",
       "0       18245960       5  this special book it started slo, first third ...   \n",
       "1          16981       3          recommended don katz avail free december    \n",
       "2       28684704       3  a fun fast paced science fiction thriller i re...   \n",
       "3       27161156       0  recommended reading understand going middle am...   \n",
       "4       25884323       4  i really enjoyed book lot recommend it it drag...   \n",
       "...          ...     ...                                                ...   \n",
       "899995  11832081       3   stars jenna popular ya author agent ,ants cha...   \n",
       "899996  16095092       3  this quick read me i read lot n, adult books r...   \n",
       "899997   8430896       4   spoiler alert   stars this book ,eet inside o...   \n",
       "899998  12275680       4   spoiler alert  another fun read ms evanovich ...   \n",
       "899999     17005       3   spoiler alert   stars i liked it the story or...   \n",
       "\n",
       "        n_votes  n_comments  \n",
       "0            28           1  \n",
       "1             1           0  \n",
       "2            22           0  \n",
       "3             5           1  \n",
       "4             9           1  \n",
       "...         ...         ...  \n",
       "899995        0           0  \n",
       "899996        1           1  \n",
       "899997        1           0  \n",
       "899998        0           0  \n",
       "899999        0           0  \n",
       "\n",
       "[900000 rows x 5 columns]"
      ]
     },
     "execution_count": 31,
     "metadata": {},
     "output_type": "execute_result"
    }
   ],
   "source": [
    "train_book"
   ]
  },
  {
   "cell_type": "markdown",
   "id": "dca243ba",
   "metadata": {
    "papermill": {
     "duration": 0.01532,
     "end_time": "2022-12-12T09:37:09.952847",
     "exception": false,
     "start_time": "2022-12-12T09:37:09.937527",
     "status": "completed"
    },
    "tags": []
   },
   "source": [
    "**Sentiment Analysis using VADER library**\n"
   ]
  },
  {
   "cell_type": "code",
   "execution_count": 32,
   "id": "75c5c478",
   "metadata": {
    "execution": {
     "iopub.execute_input": "2022-12-12T09:37:09.985530Z",
     "iopub.status.busy": "2022-12-12T09:37:09.985147Z",
     "iopub.status.idle": "2022-12-12T09:37:09.997547Z",
     "shell.execute_reply": "2022-12-12T09:37:09.996410Z"
    },
    "papermill": {
     "duration": 0.03204,
     "end_time": "2022-12-12T09:37:10.000201",
     "exception": false,
     "start_time": "2022-12-12T09:37:09.968161",
     "status": "completed"
    },
    "tags": []
   },
   "outputs": [],
   "source": [
    "from nltk.sentiment.vader import SentimentIntensityAnalyzer"
   ]
  },
  {
   "cell_type": "code",
   "execution_count": 33,
   "id": "5d3587be",
   "metadata": {
    "execution": {
     "iopub.execute_input": "2022-12-12T09:37:10.033371Z",
     "iopub.status.busy": "2022-12-12T09:37:10.032194Z",
     "iopub.status.idle": "2022-12-12T09:37:10.055430Z",
     "shell.execute_reply": "2022-12-12T09:37:10.054586Z"
    },
    "papermill": {
     "duration": 0.04221,
     "end_time": "2022-12-12T09:37:10.057852",
     "exception": false,
     "start_time": "2022-12-12T09:37:10.015642",
     "status": "completed"
    },
    "tags": []
   },
   "outputs": [],
   "source": [
    "analyzer = SentimentIntensityAnalyzer()"
   ]
  },
  {
   "cell_type": "markdown",
   "id": "44c0f4ee",
   "metadata": {
    "papermill": {
     "duration": 0.015007,
     "end_time": "2022-12-12T09:37:10.088307",
     "exception": false,
     "start_time": "2022-12-12T09:37:10.073300",
     "status": "completed"
    },
    "tags": []
   },
   "source": [
    "****"
   ]
  },
  {
   "cell_type": "markdown",
   "id": "09fb8fd1",
   "metadata": {
    "papermill": {
     "duration": 0.015373,
     "end_time": "2022-12-12T09:37:10.119788",
     "exception": false,
     "start_time": "2022-12-12T09:37:10.104415",
     "status": "completed"
    },
    "tags": []
   },
   "source": [
    "**Create negative polarity score for each row**"
   ]
  },
  {
   "cell_type": "code",
   "execution_count": 34,
   "id": "67e802b6",
   "metadata": {
    "execution": {
     "iopub.execute_input": "2022-12-12T09:37:10.152106Z",
     "iopub.status.busy": "2022-12-12T09:37:10.151734Z",
     "iopub.status.idle": "2022-12-12T10:03:44.791984Z",
     "shell.execute_reply": "2022-12-12T10:03:44.790704Z"
    },
    "papermill": {
     "duration": 1594.659651,
     "end_time": "2022-12-12T10:03:44.794867",
     "exception": false,
     "start_time": "2022-12-12T09:37:10.135216",
     "status": "completed"
    },
    "tags": []
   },
   "outputs": [],
   "source": [
    "train_book['neg'] = [analyzer.polarity_scores(x)['neg'] for x in train_book['review_text']]"
   ]
  },
  {
   "cell_type": "code",
   "execution_count": 35,
   "id": "04d27a2d",
   "metadata": {
    "execution": {
     "iopub.execute_input": "2022-12-12T10:03:44.827481Z",
     "iopub.status.busy": "2022-12-12T10:03:44.827089Z",
     "iopub.status.idle": "2022-12-12T10:30:23.768239Z",
     "shell.execute_reply": "2022-12-12T10:30:23.767027Z"
    },
    "papermill": {
     "duration": 1598.960162,
     "end_time": "2022-12-12T10:30:23.770863",
     "exception": false,
     "start_time": "2022-12-12T10:03:44.810701",
     "status": "completed"
    },
    "tags": []
   },
   "outputs": [],
   "source": [
    "train_book['pos'] = [analyzer.polarity_scores(x)['pos'] for x in train_book['review_text']]"
   ]
  },
  {
   "cell_type": "code",
   "execution_count": 36,
   "id": "659d8fdc",
   "metadata": {
    "execution": {
     "iopub.execute_input": "2022-12-12T10:30:23.804109Z",
     "iopub.status.busy": "2022-12-12T10:30:23.803374Z",
     "iopub.status.idle": "2022-12-12T10:57:10.406047Z",
     "shell.execute_reply": "2022-12-12T10:57:10.405016Z"
    },
    "papermill": {
     "duration": 1606.621548,
     "end_time": "2022-12-12T10:57:10.408655",
     "exception": false,
     "start_time": "2022-12-12T10:30:23.787107",
     "status": "completed"
    },
    "tags": []
   },
   "outputs": [],
   "source": [
    "train_book['neutral'] = [analyzer.polarity_scores(x)['neu'] for x in train_book['review_text']]"
   ]
  },
  {
   "cell_type": "code",
   "execution_count": 37,
   "id": "61bac9a0",
   "metadata": {
    "execution": {
     "iopub.execute_input": "2022-12-12T10:57:10.443014Z",
     "iopub.status.busy": "2022-12-12T10:57:10.441910Z",
     "iopub.status.idle": "2022-12-12T10:57:10.446851Z",
     "shell.execute_reply": "2022-12-12T10:57:10.446083Z"
    },
    "papermill": {
     "duration": 0.02343,
     "end_time": "2022-12-12T10:57:10.448898",
     "exception": false,
     "start_time": "2022-12-12T10:57:10.425468",
     "status": "completed"
    },
    "tags": []
   },
   "outputs": [],
   "source": [
    "#train_book['polarity'] =train_book['review_text'].apply(lambda x:analyzer.polarity_scores(x))\n"
   ]
  },
  {
   "cell_type": "code",
   "execution_count": 38,
   "id": "cf3ee50a",
   "metadata": {
    "execution": {
     "iopub.execute_input": "2022-12-12T10:57:10.481435Z",
     "iopub.status.busy": "2022-12-12T10:57:10.480524Z",
     "iopub.status.idle": "2022-12-12T10:57:10.500506Z",
     "shell.execute_reply": "2022-12-12T10:57:10.499316Z"
    },
    "papermill": {
     "duration": 0.038831,
     "end_time": "2022-12-12T10:57:10.502948",
     "exception": false,
     "start_time": "2022-12-12T10:57:10.464117",
     "status": "completed"
    },
    "tags": []
   },
   "outputs": [
    {
     "data": {
      "text/html": [
       "<div>\n",
       "<style scoped>\n",
       "    .dataframe tbody tr th:only-of-type {\n",
       "        vertical-align: middle;\n",
       "    }\n",
       "\n",
       "    .dataframe tbody tr th {\n",
       "        vertical-align: top;\n",
       "    }\n",
       "\n",
       "    .dataframe thead th {\n",
       "        text-align: right;\n",
       "    }\n",
       "</style>\n",
       "<table border=\"1\" class=\"dataframe\">\n",
       "  <thead>\n",
       "    <tr style=\"text-align: right;\">\n",
       "      <th></th>\n",
       "      <th>book_id</th>\n",
       "      <th>rating</th>\n",
       "      <th>review_text</th>\n",
       "      <th>n_votes</th>\n",
       "      <th>n_comments</th>\n",
       "      <th>neg</th>\n",
       "      <th>pos</th>\n",
       "      <th>neutral</th>\n",
       "    </tr>\n",
       "  </thead>\n",
       "  <tbody>\n",
       "    <tr>\n",
       "      <th>0</th>\n",
       "      <td>18245960</td>\n",
       "      <td>5</td>\n",
       "      <td>this special book it started slo, first third ...</td>\n",
       "      <td>28</td>\n",
       "      <td>1</td>\n",
       "      <td>0.134</td>\n",
       "      <td>0.179</td>\n",
       "      <td>0.687</td>\n",
       "    </tr>\n",
       "    <tr>\n",
       "      <th>1</th>\n",
       "      <td>16981</td>\n",
       "      <td>3</td>\n",
       "      <td>recommended don katz avail free december</td>\n",
       "      <td>1</td>\n",
       "      <td>0</td>\n",
       "      <td>0.000</td>\n",
       "      <td>0.560</td>\n",
       "      <td>0.440</td>\n",
       "    </tr>\n",
       "    <tr>\n",
       "      <th>2</th>\n",
       "      <td>28684704</td>\n",
       "      <td>3</td>\n",
       "      <td>a fun fast paced science fiction thriller i re...</td>\n",
       "      <td>22</td>\n",
       "      <td>0</td>\n",
       "      <td>0.123</td>\n",
       "      <td>0.145</td>\n",
       "      <td>0.733</td>\n",
       "    </tr>\n",
       "    <tr>\n",
       "      <th>3</th>\n",
       "      <td>27161156</td>\n",
       "      <td>0</td>\n",
       "      <td>recommended reading understand going middle am...</td>\n",
       "      <td>5</td>\n",
       "      <td>1</td>\n",
       "      <td>0.000</td>\n",
       "      <td>0.343</td>\n",
       "      <td>0.657</td>\n",
       "    </tr>\n",
       "    <tr>\n",
       "      <th>4</th>\n",
       "      <td>25884323</td>\n",
       "      <td>4</td>\n",
       "      <td>i really enjoyed book lot recommend it it drag...</td>\n",
       "      <td>9</td>\n",
       "      <td>1</td>\n",
       "      <td>0.092</td>\n",
       "      <td>0.214</td>\n",
       "      <td>0.695</td>\n",
       "    </tr>\n",
       "    <tr>\n",
       "      <th>...</th>\n",
       "      <td>...</td>\n",
       "      <td>...</td>\n",
       "      <td>...</td>\n",
       "      <td>...</td>\n",
       "      <td>...</td>\n",
       "      <td>...</td>\n",
       "      <td>...</td>\n",
       "      <td>...</td>\n",
       "    </tr>\n",
       "    <tr>\n",
       "      <th>899995</th>\n",
       "      <td>11832081</td>\n",
       "      <td>3</td>\n",
       "      <td>stars jenna popular ya author agent ,ants cha...</td>\n",
       "      <td>0</td>\n",
       "      <td>0</td>\n",
       "      <td>0.032</td>\n",
       "      <td>0.383</td>\n",
       "      <td>0.585</td>\n",
       "    </tr>\n",
       "    <tr>\n",
       "      <th>899996</th>\n",
       "      <td>16095092</td>\n",
       "      <td>3</td>\n",
       "      <td>this quick read me i read lot n, adult books r...</td>\n",
       "      <td>1</td>\n",
       "      <td>1</td>\n",
       "      <td>0.267</td>\n",
       "      <td>0.129</td>\n",
       "      <td>0.605</td>\n",
       "    </tr>\n",
       "    <tr>\n",
       "      <th>899997</th>\n",
       "      <td>8430896</td>\n",
       "      <td>4</td>\n",
       "      <td>spoiler alert   stars this book ,eet inside o...</td>\n",
       "      <td>1</td>\n",
       "      <td>0</td>\n",
       "      <td>0.176</td>\n",
       "      <td>0.285</td>\n",
       "      <td>0.538</td>\n",
       "    </tr>\n",
       "    <tr>\n",
       "      <th>899998</th>\n",
       "      <td>12275680</td>\n",
       "      <td>4</td>\n",
       "      <td>spoiler alert  another fun read ms evanovich ...</td>\n",
       "      <td>0</td>\n",
       "      <td>0</td>\n",
       "      <td>0.042</td>\n",
       "      <td>0.358</td>\n",
       "      <td>0.599</td>\n",
       "    </tr>\n",
       "    <tr>\n",
       "      <th>899999</th>\n",
       "      <td>17005</td>\n",
       "      <td>3</td>\n",
       "      <td>spoiler alert   stars i liked it the story or...</td>\n",
       "      <td>0</td>\n",
       "      <td>0</td>\n",
       "      <td>0.137</td>\n",
       "      <td>0.316</td>\n",
       "      <td>0.546</td>\n",
       "    </tr>\n",
       "  </tbody>\n",
       "</table>\n",
       "<p>900000 rows × 8 columns</p>\n",
       "</div>"
      ],
      "text/plain": [
       "         book_id  rating                                        review_text  \\\n",
       "0       18245960       5  this special book it started slo, first third ...   \n",
       "1          16981       3          recommended don katz avail free december    \n",
       "2       28684704       3  a fun fast paced science fiction thriller i re...   \n",
       "3       27161156       0  recommended reading understand going middle am...   \n",
       "4       25884323       4  i really enjoyed book lot recommend it it drag...   \n",
       "...          ...     ...                                                ...   \n",
       "899995  11832081       3   stars jenna popular ya author agent ,ants cha...   \n",
       "899996  16095092       3  this quick read me i read lot n, adult books r...   \n",
       "899997   8430896       4   spoiler alert   stars this book ,eet inside o...   \n",
       "899998  12275680       4   spoiler alert  another fun read ms evanovich ...   \n",
       "899999     17005       3   spoiler alert   stars i liked it the story or...   \n",
       "\n",
       "        n_votes  n_comments    neg    pos  neutral  \n",
       "0            28           1  0.134  0.179    0.687  \n",
       "1             1           0  0.000  0.560    0.440  \n",
       "2            22           0  0.123  0.145    0.733  \n",
       "3             5           1  0.000  0.343    0.657  \n",
       "4             9           1  0.092  0.214    0.695  \n",
       "...         ...         ...    ...    ...      ...  \n",
       "899995        0           0  0.032  0.383    0.585  \n",
       "899996        1           1  0.267  0.129    0.605  \n",
       "899997        1           0  0.176  0.285    0.538  \n",
       "899998        0           0  0.042  0.358    0.599  \n",
       "899999        0           0  0.137  0.316    0.546  \n",
       "\n",
       "[900000 rows x 8 columns]"
      ]
     },
     "execution_count": 38,
     "metadata": {},
     "output_type": "execute_result"
    }
   ],
   "source": [
    "train_book"
   ]
  },
  {
   "cell_type": "code",
   "execution_count": null,
   "id": "ec534e58",
   "metadata": {
    "papermill": {
     "duration": 0.015512,
     "end_time": "2022-12-12T10:57:10.534411",
     "exception": false,
     "start_time": "2022-12-12T10:57:10.518899",
     "status": "completed"
    },
    "tags": []
   },
   "outputs": [],
   "source": []
  },
  {
   "cell_type": "code",
   "execution_count": null,
   "id": "ca7eccc0",
   "metadata": {
    "papermill": {
     "duration": 0.015205,
     "end_time": "2022-12-12T10:57:10.565259",
     "exception": false,
     "start_time": "2022-12-12T10:57:10.550054",
     "status": "completed"
    },
    "tags": []
   },
   "outputs": [],
   "source": []
  },
  {
   "cell_type": "markdown",
   "id": "f672d5ad",
   "metadata": {
    "papermill": {
     "duration": 0.014901,
     "end_time": "2022-12-12T10:57:10.595543",
     "exception": false,
     "start_time": "2022-12-12T10:57:10.580642",
     "status": "completed"
    },
    "tags": []
   },
   "source": []
  },
  {
   "cell_type": "code",
   "execution_count": null,
   "id": "01000b9b",
   "metadata": {
    "papermill": {
     "duration": 0.015132,
     "end_time": "2022-12-12T10:57:10.626043",
     "exception": false,
     "start_time": "2022-12-12T10:57:10.610911",
     "status": "completed"
    },
    "tags": []
   },
   "outputs": [],
   "source": []
  }
 ],
 "metadata": {
  "kernelspec": {
   "display_name": "Python 3",
   "language": "python",
   "name": "python3"
  },
  "language_info": {
   "codemirror_mode": {
    "name": "ipython",
    "version": 3
   },
   "file_extension": ".py",
   "mimetype": "text/x-python",
   "name": "python",
   "nbconvert_exporter": "python",
   "pygments_lexer": "ipython3",
   "version": "3.7.12"
  },
  "papermill": {
   "default_parameters": {},
   "duration": 5629.989522,
   "end_time": "2022-12-12T10:57:13.473449",
   "environment_variables": {},
   "exception": null,
   "input_path": "__notebook__.ipynb",
   "output_path": "__notebook__.ipynb",
   "parameters": {},
   "start_time": "2022-12-12T09:23:23.483927",
   "version": "2.3.4"
  }
 },
 "nbformat": 4,
 "nbformat_minor": 5
}
